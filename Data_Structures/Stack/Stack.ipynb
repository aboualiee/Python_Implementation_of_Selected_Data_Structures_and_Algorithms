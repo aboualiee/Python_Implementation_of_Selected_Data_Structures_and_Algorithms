{
 "cells": [
  {
   "cell_type": "markdown",
   "metadata": {},
   "source": [
    "# Stack Algorithm:"
   ]
  },
  {
   "cell_type": "markdown",
   "metadata": {},
   "source": [
    "Stack is a data structure that follows the Last In First Out (LIFO) principle. operations on stack are:\n",
    "1. push: add an element to the top of the stack\n",
    "2. pop: remove the top element from the stack\n",
    "3. peek: get the top element of the stack without removing it\n",
    "4. is_empty: check if the stack is empty\n",
    "5. size: get the number of elements in the stack\n",
    "\n",
    "Stack can be implemented using list in python. the top of the stack is the end of the list. \n",
    "In this implementation, the end of the list is considered as the top of the stack. also, \n",
    "the stack is implemented using a class with the following methods:\n",
    "1. push: add an element to the top of the stack\n",
    "2. pop: remove the top element from the stack\n",
    "3. peek: get the top element of the stack without removing it\n",
    "4. is_empty: check if the stack is empty\n",
    "5. size: get the number of elements in the stack\n",
    "6. display: display the elements of the stack: display method is added for debugging purposes. it is not a standard stack operation.\n",
    "\n",
    "The pseudo code:\n",
    "1. push(element):\n",
    "    add element to the end of the list\n",
    "2. pop():\n",
    "    remove the last element from the list\n",
    "3. peek():\n",
    "    return the last element of the list\n",
    "4. is_empty():\n",
    "    return True if the list is empty, False otherwise \n",
    "5. size():\n",
    "    return the length of the list\n",
    "6. display():\n",
    "    print the elements of the list"
   ]
  },
  {
   "cell_type": "markdown",
   "metadata": {},
   "source": [
    "# Stack Implementation:"
   ]
  },
  {
   "cell_type": "code",
   "execution_count": 2,
   "metadata": {},
   "outputs": [],
   "source": [
    "class Stack:\n",
    "    def __init__(self):\n",
    "        self.items = []\n",
    "\n",
    "    def is_empty(self):\n",
    "        return len(self.items) == 0\n",
    "\n",
    "    def push(self, item):\n",
    "        self.items.append(item)\n",
    "\n",
    "    def pop(self):\n",
    "        if not self.is_empty():\n",
    "            return self.items.pop()\n",
    "        else:\n",
    "            return None  # Or raise an exception\n",
    "\n",
    "    def peek(self):\n",
    "        if not self.is_empty():\n",
    "            return self.items[-1]\n",
    "        else:\n",
    "            return None  # Or raise an exception\n",
    "\n",
    "    def size(self):\n",
    "        return len(self.items)"
   ]
  },
  {
   "cell_type": "markdown",
   "metadata": {},
   "source": [
    "# Test"
   ]
  },
  {
   "cell_type": "code",
   "execution_count": 3,
   "metadata": {},
   "outputs": [
    {
     "name": "stdout",
     "output_type": "stream",
     "text": [
      "Stack is empty: True\n",
      "Stack size: 3\n",
      "Top element: 3\n",
      "Popped element: 3\n",
      "Stack size after pop: 2\n",
      "Top element after pop: 2\n",
      "Stack is empty: False\n",
      "Stack is empty: True\n",
      "Popped element from empty stack: None\n"
     ]
    }
   ],
   "source": [
    "s = Stack()\n",
    "print(\"Stack is empty:\", s.is_empty())  # True"
   ]
  },
  {
   "cell_type": "code",
   "execution_count": 4,
   "metadata": {},
   "outputs": [
    {
     "name": "stdout",
     "output_type": "stream",
     "text": [
      "Stack size: 3\n",
      "Top element: 3\n"
     ]
    }
   ],
   "source": [
    "\n",
    "s.push(1)\n",
    "s.push(2)\n",
    "s.push(3)\n",
    "\n",
    "print(\"Stack size:\", s.size())  # 3\n",
    "print(\"Top element:\", s.peek())  # 3"
   ]
  },
  {
   "cell_type": "code",
   "execution_count": 5,
   "metadata": {},
   "outputs": [
    {
     "name": "stdout",
     "output_type": "stream",
     "text": [
      "Popped element: 3\n",
      "Stack size after pop: 2\n",
      "Top element after pop: 2\n",
      "Stack is empty: False\n"
     ]
    }
   ],
   "source": [
    "\n",
    "print(\"Popped element:\", s.pop())  # 3\n",
    "print(\"Stack size after pop:\", s.size())  # 2\n",
    "print(\"Top element after pop:\", s.peek())  # 2\n",
    "\n",
    "print(\"Stack is empty:\", s.is_empty())  # False\n"
   ]
  },
  {
   "cell_type": "code",
   "execution_count": 6,
   "metadata": {},
   "outputs": [
    {
     "name": "stdout",
     "output_type": "stream",
     "text": [
      "Stack is empty: True\n",
      "Popped element from empty stack: None\n"
     ]
    }
   ],
   "source": [
    "\n",
    "while not s.is_empty():\n",
    "    s.pop()\n",
    "\n",
    "print(\"Stack is empty:\", s.is_empty())  # True\n",
    "print(\"Popped element from empty stack:\", s.pop())  # None"
   ]
  }
 ],
 "metadata": {
  "kernelspec": {
   "display_name": "base",
   "language": "python",
   "name": "python3"
  },
  "language_info": {
   "codemirror_mode": {
    "name": "ipython",
    "version": 3
   },
   "file_extension": ".py",
   "mimetype": "text/x-python",
   "name": "python",
   "nbconvert_exporter": "python",
   "pygments_lexer": "ipython3",
   "version": "3.8.20"
  }
 },
 "nbformat": 4,
 "nbformat_minor": 2
}
