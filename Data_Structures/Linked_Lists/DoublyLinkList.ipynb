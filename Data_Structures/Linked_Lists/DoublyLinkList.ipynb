{
 "cells": [
  {
   "cell_type": "markdown",
   "metadata": {},
   "source": [
    "# Doubly Linked List Algorithms\n",
    "\n",
    "Here are the algorithms for common operations on a doubly linked list:\n",
    "\n",
    "**1. Node Structure:**\n",
    "\n",
    "Each node in a doubly linked list contains:\n",
    "\n",
    "*   `data`: The value stored in the node.\n",
    "*   `next`: A pointer to the next node in the list.\n",
    "*   `prev`: A pointer to the previous node in the list.\n",
    "\n",
    "**2. Doubly Linked List Structure:**\n",
    "\n",
    "The doubly linked list itself typically contains:\n",
    "\n",
    "*   `head`: A pointer to the first node in the list (can be None if the list is empty).\n",
    "*   `tail`: A pointer to the last node in the list (can be None if the list is empty).\n",
    "*   `size`: The number of nodes in the list.\n",
    "\n",
    "**3. Insertion:**\n",
    "\n",
    "*   **Insert at the beginning (prepend):**\n",
    "    1.  Create a new node with the given data.\n",
    "    2.  Set the new node's `next` pointer to the current `head`.\n",
    "    3.  If the list is not empty (i.e., `head` is not None), set the current `head`'s `prev` pointer to the new node.\n",
    "    4.  Set the new node's `prev` pointer to `None`.\n",
    "    5.  Update `head` to point to the new node.\n",
    "    6.  If the list was empty, set `tail` to the new node as well.\n",
    "    7.  Increment the `size`.\n",
    "\n",
    "*   **Insert at the end (append):**\n",
    "    1.  Create a new node with the given data.\n",
    "    2.  Set the new node's `prev` pointer to the current `tail`.\n",
    "    3.  If the list is not empty (i.e., `tail` is not None), set the current `tail`'s `next` pointer to the new node.\n",
    "    4.  Set the new node's `next` pointer to `None`.\n",
    "    5.  Update `tail` to point to the new node.\n",
    "    6.  If the list was empty, set `head` to the new node as well.\n",
    "    7.  Increment the `size`.\n",
    "\n",
    "*   **Insert at a specific position:**\n",
    "    1.  If the position is 0, use the \"insert at the beginning\" algorithm.\n",
    "    2.  If the position is equal to the size, use the \"insert at the end\" algorithm.\n",
    "    3.  If the position is out of bounds (less than 0 or greater than the size), raise an error.\n",
    "    4.  Traverse the list to the node at the position - 1.\n",
    "    5.  Create a new node with the given data.\n",
    "    6.  Set the new node's `next` pointer to the current node's `next` pointer.\n",
    "    7.  Set the new node's `prev` pointer to the current node.\n",
    "    8.  Update the current node's `next` pointer to point to the new node.\n",
    "    9.  Update the next node's `prev` pointer to point to the new node.\n",
    "    10. Increment the `size`.\n",
    "\n",
    "**4. Deletion:**\n",
    "\n",
    "*   **Delete from the beginning:**\n",
    "    1.  If the list is empty, raise an error.\n",
    "    2.  Store the current `head` node.\n",
    "    3.  Update `head` to point to the next node in the list (i.e., `head.next`).\n",
    "    4.  If the new `head` is not None, set its `prev` pointer to `None`.\n",
    "    5.  If the list becomes empty (i.e., `head` is now None), set `tail` to `None` as well.\n",
    "    6.  Decrement the `size`.\n",
    "    7.  (Optional) Return the data from the deleted node.\n",
    "\n",
    "*   **Delete from the end:**\n",
    "    1.  If the list is empty, raise an error.\n",
    "    2.  Store the current `tail` node.\n",
    "    3.  Update `tail` to point to the previous node in the list (i.e., `tail.prev`).\n",
    "    4.  If the new `tail` is not None, set its `next` pointer to `None`.\n",
    "    5.  If the list becomes empty (i.e., `tail` is now None), set `head` to `None` as well.\n",
    "    6.  Decrement the `size`.\n",
    "    7.  (Optional) Return the data from the deleted node.\n",
    "\n",
    "*   **Delete from a specific position:**\n",
    "    1.  If the list is empty, raise an error.\n",
    "    2.  If the position is out of bounds, raise an error.\n",
    "    3.  Traverse the list to the node at the given position.\n",
    "    4.  Update the `next` pointer of the previous node to point to the next node of the current node.\n",
    "    5.  Update the `prev` pointer of the next node to point to the previous node of the current node.\n",
    "    6.  If the node being deleted is the `head`, update the `head` pointer.\n",
    "    7.  If the node being deleted is the `tail`, update the `tail` pointer.\n",
    "    8.  Decrement the `size`.\n",
    "    9.  (Optional) Return the data from the deleted node.\n",
    "\n",
    "**5. Search:**\n",
    "\n",
    "*   **Search by value:**\n",
    "    1.  Traverse the list from `head` to `tail`.\n",
    "    2.  For each node, compare the node's `data` with the target value.\n",
    "    3.  If the values match, return `True` (or the node itself).\n",
    "    4.  If the end of the list is reached without finding the value, return `False` (or `None`).\n",
    "\n",
    "**6. Traversal:**\n",
    "\n",
    "*   **Forward Traversal:** Start at the `head` and follow the `next` pointers until the end of the list is reached.\n",
    "*   **Backward Traversal:** Start at the `tail` and follow the `prev` pointers until the beginning of the list is reached.\n",
    "\n",
    "**7. Get Size:**\n",
    "\n",
    "*   Return the `size` attribute of the list.\n",
    "\n",
    "**8. Is Empty:**\n",
    "\n",
    "*   Check if the `head` is `None`. If it is, the list is empty.\n",
    "\n",
    "These algorithms provide a foundation for implementing a doubly linked list and performing common operations on it. Remember to handle edge cases (empty list, invalid positions, etc.) appropriately in your implementation."
   ]
  },
  {
   "cell_type": "markdown",
   "metadata": {},
   "source": [
    "## Doubly Linked List Implementation:"
   ]
  },
  {
   "cell_type": "code",
   "execution_count": 64,
   "metadata": {},
   "outputs": [],
   "source": [
    "class Node:\n",
    "    def __init__(self, data):\n",
    "        self.data = data\n",
    "        self.next = None\n",
    "        self.prev = None\n",
    "\n",
    "class DoublyLinkedList:\n",
    "    def __init__(self):\n",
    "        self.head = None\n",
    "        self.tail = None\n",
    "\n",
    "    def insert_at_beginning(self, data):\n",
    "        new_node = Node(data)\n",
    "        if self.head is None:\n",
    "            self.head = new_node\n",
    "            self.tail = new_node\n",
    "        else:\n",
    "            new_node.next = self.head\n",
    "            self.head.prev = new_node\n",
    "            self.head = new_node\n",
    "\n",
    "    def insert_at_end(self, data):\n",
    "        new_node = Node(data)\n",
    "        if self.head is None:\n",
    "            self.head = new_node\n",
    "            self.tail = new_node\n",
    "        else:\n",
    "            new_node.prev = self.tail\n",
    "            self.tail.next = new_node\n",
    "            self.tail = new_node\n",
    "\n",
    "    def insert_after(self, prev_node, data):\n",
    "        if not prev_node:\n",
    "            print(\"Previous node does not exist\")\n",
    "            return\n",
    "\n",
    "        new_node = Node(data)\n",
    "        new_node.next = prev_node.next\n",
    "        new_node.prev = prev_node\n",
    "        if prev_node.next:\n",
    "            prev_node.next.prev = new_node\n",
    "        else:\n",
    "            self.tail = new_node  # Update tail if inserting at the end\n",
    "        prev_node.next = new_node\n",
    "\n",
    "    def delete_from_beginning(self):\n",
    "        if not self.head:\n",
    "            print(\"List is empty\")\n",
    "            return\n",
    "\n",
    "        if self.head == self.tail:\n",
    "            self.head = None\n",
    "            self.tail = None\n",
    "            return\n",
    "\n",
    "        self.head = self.head.next\n",
    "        self.head.prev = None\n",
    "\n",
    "    def delete_from_end(self):\n",
    "        if not self.head:\n",
    "            print(\"List is empty\")\n",
    "            return\n",
    "\n",
    "        if self.head == self.tail:\n",
    "            self.head = None\n",
    "            self.tail = None\n",
    "            return\n",
    "\n",
    "        self.tail = self.tail.prev\n",
    "        self.tail.next = None\n",
    "\n",
    "    def delete_node(self, key):\n",
    "        current_node = self.head\n",
    "\n",
    "        while current_node:\n",
    "            if current_node.data == key:\n",
    "                if current_node.prev:\n",
    "                    current_node.prev.next = current_node.next\n",
    "                else:\n",
    "                    self.head = current_node.next\n",
    "\n",
    "                if current_node.next:\n",
    "                    current_node.next.prev = current_node.prev\n",
    "                else:\n",
    "                    self.tail = current_node.prev\n",
    "                return\n",
    "            current_node = current_node.next\n",
    "        print(\"Node not found\")\n",
    "\n",
    "    def search(self, x):\n",
    "        current = self.head\n",
    "        while current:\n",
    "            if current.data == x:\n",
    "                return True\n",
    "            current = current.next\n",
    "        return False\n",
    "\n",
    "    def print_list(self):\n",
    "        current = self.head\n",
    "        while current:\n",
    "            print(current.data, end=\" \")\n",
    "            current = current.next\n",
    "        print()"
   ]
  },
  {
   "cell_type": "markdown",
   "metadata": {},
   "source": [
    "# Test"
   ]
  },
  {
   "cell_type": "code",
   "execution_count": 65,
   "metadata": {},
   "outputs": [],
   "source": [
    "\n",
    "doubly_linked_list = DoublyLinkedList()\n",
    "doubly_linked_list.insert_at_end(10)\n",
    "doubly_linked_list.insert_at_beginning(5)\n",
    "doubly_linked_list.insert_at_end(15)\n",
    "doubly_linked_list.insert_after(doubly_linked_list.head, 7)"
   ]
  },
  {
   "cell_type": "code",
   "execution_count": 66,
   "metadata": {},
   "outputs": [
    {
     "name": "stdout",
     "output_type": "stream",
     "text": [
      "Doubly linked list elements:\n",
      "5 7 10 15 \n"
     ]
    }
   ],
   "source": [
    "\n",
    "print(\"Doubly linked list elements:\")\n",
    "doubly_linked_list.print_list()"
   ]
  },
  {
   "cell_type": "code",
   "execution_count": 67,
   "metadata": {},
   "outputs": [
    {
     "name": "stdout",
     "output_type": "stream",
     "text": [
      "Doubly linked list after deleting 7:\n",
      "5 10 15 \n"
     ]
    }
   ],
   "source": [
    "\n",
    "doubly_linked_list.delete_node(7)\n",
    "print(\"Doubly linked list after deleting 7:\")\n",
    "doubly_linked_list.print_list()"
   ]
  },
  {
   "cell_type": "code",
   "execution_count": 68,
   "metadata": {},
   "outputs": [
    {
     "name": "stdout",
     "output_type": "stream",
     "text": [
      "Search 10: True\n",
      "Search 7: False\n"
     ]
    }
   ],
   "source": [
    "\n",
    "print(\"Search 10:\", doubly_linked_list.search(10))\n",
    "print(\"Search 7:\", doubly_linked_list.search(7))"
   ]
  },
  {
   "cell_type": "code",
   "execution_count": 69,
   "metadata": {},
   "outputs": [
    {
     "name": "stdout",
     "output_type": "stream",
     "text": [
      "Doubly linked list after deleting from beginning:\n",
      "10 15 \n"
     ]
    }
   ],
   "source": [
    "\n",
    "doubly_linked_list.delete_from_beginning()\n",
    "print(\"Doubly linked list after deleting from beginning:\")\n",
    "doubly_linked_list.print_list()"
   ]
  },
  {
   "cell_type": "code",
   "execution_count": 70,
   "metadata": {},
   "outputs": [
    {
     "name": "stdout",
     "output_type": "stream",
     "text": [
      "Doubly linked list after deleting from end:\n",
      "10 \n"
     ]
    }
   ],
   "source": [
    "\n",
    "doubly_linked_list.delete_from_end()\n",
    "print(\"Doubly linked list after deleting from end:\")\n",
    "doubly_linked_list.print_list()"
   ]
  }
 ],
 "metadata": {
  "kernelspec": {
   "display_name": "base",
   "language": "python",
   "name": "python3"
  },
  "language_info": {
   "codemirror_mode": {
    "name": "ipython",
    "version": 3
   },
   "file_extension": ".py",
   "mimetype": "text/x-python",
   "name": "python",
   "nbconvert_exporter": "python",
   "pygments_lexer": "ipython3",
   "version": "3.8.20"
  }
 },
 "nbformat": 4,
 "nbformat_minor": 2
}
