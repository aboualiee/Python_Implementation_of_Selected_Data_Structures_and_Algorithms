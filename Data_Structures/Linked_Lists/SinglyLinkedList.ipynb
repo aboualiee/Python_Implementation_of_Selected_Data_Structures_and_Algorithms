{
 "cells": [
  {
   "cell_type": "markdown",
   "metadata": {},
   "source": [
    "## Singly Linked List Algorithms\n",
    "\n",
    "Here are the algorithms for common operations on a singly linked list:\n",
    "\n",
    "**1. Node Structure:**\n",
    "\n",
    "Each node in a singly linked list contains:\n",
    "\n",
    "*   `data`: The value stored in the node.\n",
    "*   `next`: A pointer to the next node in the list (or `None` if it's the last node).\n",
    "\n",
    "**2. Singly Linked List Structure:**\n",
    "\n",
    "The singly linked list itself typically contains:\n",
    "\n",
    "*   `head`: A pointer to the first node in the list (can be `None` if the list is empty).\n",
    "\n",
    "**3. Insertion:**\n",
    "\n",
    "*   **Insert at the beginning (prepend):**\n",
    "    1.  Create a new node with the given data.\n",
    "    2.  Set the new node's `next` pointer to the current `head`.\n",
    "    3.  Update `head` to point to the new node.\n",
    "\n",
    "*   **Insert at the end (append):**\n",
    "    1.  Create a new node with the given data.\n",
    "    2.  If the list is empty (i.e., `head` is `None`), set `head` to the new node and return.\n",
    "    3.  Traverse the list to the last node (the node whose `next` pointer is `None`).\n",
    "    4.  Set the `next` pointer of the last node to the new node.\n",
    "\n",
    "*   **Insert after a specific node:**\n",
    "    1.  Find the node after which you want to insert the new node.\n",
    "    2.  If the node is not found, return an error.\n",
    "    3.  Create a new node with the given data.\n",
    "    4.  Set the new node's `next` pointer to the next node of the found node.\n",
    "    5.  Set the `next` pointer of the found node to the new node.\n",
    "\n",
    "**4. Deletion:**\n",
    "\n",
    "*   **Delete from the beginning:**\n",
    "    1.  If the list is empty, return an error.\n",
    "    2.  Update `head` to point to the next node in the list (i.e., `head.next`).\n",
    "\n",
    "*   **Delete from the end:**\n",
    "    1.  If the list is empty, return an error.\n",
    "    2.  If the list contains only one node (i.e., `head.next` is `None`), set `head` to `None` and return.\n",
    "    3.  Traverse the list to the second-to-last node (the node whose `next.next` pointer is `None`).\n",
    "    4.  Set the `next` pointer of the second-to-last node to `None`.\n",
    "\n",
    "*   **Delete a specific node (given the node itself):**\n",
    "    1.  If the list is empty, return an error.\n",
    "    2.  If the node to be deleted is the `head`, update `head` to `head.next` and return.\n",
    "    3.  Traverse the list to find the node *preceding* the node to be deleted.\n",
    "    4.  If the preceding node is not found (meaning the node to be deleted is not in the list), return an error.\n",
    "    5.  Set the `next` pointer of the preceding node to the `next` pointer of the node to be deleted.\n",
    "\n",
    "*   **Delete a node by value:**\n",
    "    1. If the list is empty, return.\n",
    "    2. If the value to delete is at the head:\n",
    "        * If `head.data` is the value to delete, set `head = head.next` and return.\n",
    "    3. Traverse the list, keeping track of the previous node.\n",
    "    4. If the current node's data matches the value to delete:\n",
    "        * Set `previous.next = current.next`\n",
    "        * Return\n",
    "    5. If the value is not found, do nothing.\n",
    "\n",
    "**5. Search:**\n",
    "\n",
    "*   **Search by value:**\n",
    "    1.  Traverse the list from `head`.\n",
    "    2.  For each node, compare the node's `data` with the target value.\n",
    "    3.  If the values match, return `True` (or the node itself).\n",
    "    4.  If the end of the list is reached without finding the value, return `False` (or `None`).\n",
    "\n",
    "**6. Traversal:**\n",
    "\n",
    "*   Start at the `head` and follow the `next` pointers until the end of the list is reached.\n",
    "\n",
    "**7. Get Size (or Length):**\n",
    "\n",
    "*   Iterate through the list, starting from the head, and count the number of nodes until the end is reached (the `next` pointer is `None`).\n",
    "\n",
    "**8. Is Empty:**\n",
    "\n",
    "*   Check if the `head` is `None`. If it is, the list is empty.\n",
    "\n",
    "These algorithms provide a foundation for implementing a singly linked list and performing common operations on it. Remember to handle edge cases (empty list, node not found, etc.) appropriately in your implementation."
   ]
  },
  {
   "cell_type": "markdown",
   "metadata": {},
   "source": [
    "# Singly Linked List Implementation"
   ]
  },
  {
   "cell_type": "code",
   "execution_count": 3,
   "metadata": {},
   "outputs": [],
   "source": [
    "class Node:\n",
    "    def __init__(self, data):\n",
    "        self.data = data\n",
    "        self.next = None\n",
    "\n",
    "class SinglyLinkedList:\n",
    "    def __init__(self):\n",
    "        self.head = None\n",
    "\n",
    "    def insert_at_beginning(self, data):\n",
    "        new_node = Node(data)\n",
    "        new_node.next = self.head\n",
    "        self.head = new_node\n",
    "\n",
    "    def insert_at_end(self, data):\n",
    "        new_node = Node(data)\n",
    "        if self.head is None:\n",
    "            self.head = new_node\n",
    "            return\n",
    "        last_node = self.head\n",
    "        while last_node.next:\n",
    "            last_node = last_node.next\n",
    "        last_node.next = new_node\n",
    "\n",
    "    def insert_after(self, prev_node, data):\n",
    "        if not prev_node:\n",
    "            print(\"Previous node does not exist\")\n",
    "            return\n",
    "\n",
    "        new_node = Node(data)\n",
    "        new_node.next = prev_node.next\n",
    "        prev_node.next = new_node\n",
    "\n",
    "    def delete_from_beginning(self):\n",
    "        if not self.head:\n",
    "            print(\"List is empty\")\n",
    "            return\n",
    "        self.head = self.head.next\n",
    "\n",
    "    def delete_from_end(self):\n",
    "        if not self.head:\n",
    "            print(\"List is empty\")\n",
    "            return\n",
    "\n",
    "        if not self.head.next:\n",
    "            self.head = None\n",
    "            return\n",
    "\n",
    "        second_last = self.head\n",
    "        while second_last.next.next:\n",
    "            second_last = second_last.next\n",
    "        second_last.next = None\n",
    "\n",
    "    def delete_node(self, key):\n",
    "        current_node = self.head\n",
    "        previous_node = None\n",
    "\n",
    "        if current_node and current_node.data == key:\n",
    "            self.head = current_node.next\n",
    "            return\n",
    "\n",
    "        while current_node and current_node.data != key:\n",
    "            previous_node = current_node\n",
    "            current_node = current_node.next\n",
    "\n",
    "        if not current_node:\n",
    "            print(\"Node not found\")\n",
    "            return\n",
    "\n",
    "        previous_node.next = current_node.next\n",
    "\n",
    "    def search(self, x):\n",
    "        current = self.head\n",
    "        while current != None:\n",
    "            if current.data == x:\n",
    "                return True\n",
    "            current = current.next\n",
    "        return False\n",
    "\n",
    "    def print_list(self):\n",
    "        current = self.head\n",
    "        while current:\n",
    "            print(current.data, end=\" \")\n",
    "            current = current.next\n",
    "        print()"
   ]
  },
  {
   "cell_type": "markdown",
   "metadata": {},
   "source": [
    "# Test"
   ]
  },
  {
   "cell_type": "code",
   "execution_count": 4,
   "metadata": {},
   "outputs": [],
   "source": [
    "linked_list = SinglyLinkedList()\n",
    "linked_list.insert_at_end(10)\n",
    "linked_list.insert_at_beginning(5)\n",
    "linked_list.insert_at_end(15)\n",
    "linked_list.insert_after(linked_list.head, 7)"
   ]
  },
  {
   "cell_type": "code",
   "execution_count": 5,
   "metadata": {},
   "outputs": [
    {
     "name": "stdout",
     "output_type": "stream",
     "text": [
      "Linked list elements:\n",
      "5 7 10 15 \n"
     ]
    }
   ],
   "source": [
    "print(\"Linked list elements:\")\n",
    "linked_list.print_list()"
   ]
  },
  {
   "cell_type": "code",
   "execution_count": 6,
   "metadata": {},
   "outputs": [
    {
     "name": "stdout",
     "output_type": "stream",
     "text": [
      "Linked list after deleting 7:\n",
      "5 10 15 \n"
     ]
    }
   ],
   "source": [
    "\n",
    "linked_list.delete_node(7)\n",
    "print(\"Linked list after deleting 7:\")\n",
    "linked_list.print_list()"
   ]
  },
  {
   "cell_type": "code",
   "execution_count": 7,
   "metadata": {},
   "outputs": [
    {
     "name": "stdout",
     "output_type": "stream",
     "text": [
      "Search 10: True\n",
      "Search 7: False\n"
     ]
    }
   ],
   "source": [
    "\n",
    "print(\"Search 10:\", linked_list.search(10))\n",
    "print(\"Search 7:\", linked_list.search(7))"
   ]
  },
  {
   "cell_type": "code",
   "execution_count": 8,
   "metadata": {},
   "outputs": [
    {
     "name": "stdout",
     "output_type": "stream",
     "text": [
      "Linked list after deleting from beginning:\n",
      "10 15 \n"
     ]
    }
   ],
   "source": [
    "\n",
    "linked_list.delete_from_beginning()\n",
    "print(\"Linked list after deleting from beginning:\")\n",
    "linked_list.print_list()"
   ]
  },
  {
   "cell_type": "code",
   "execution_count": 9,
   "metadata": {},
   "outputs": [
    {
     "name": "stdout",
     "output_type": "stream",
     "text": [
      "Linked list after deleting from end:\n",
      "10 \n"
     ]
    }
   ],
   "source": [
    "\n",
    "linked_list.delete_from_end()\n",
    "print(\"Linked list after deleting from end:\")\n",
    "linked_list.print_list()"
   ]
  }
 ],
 "metadata": {
  "kernelspec": {
   "display_name": "base",
   "language": "python",
   "name": "python3"
  },
  "language_info": {
   "codemirror_mode": {
    "name": "ipython",
    "version": 3
   },
   "file_extension": ".py",
   "mimetype": "text/x-python",
   "name": "python",
   "nbconvert_exporter": "python",
   "pygments_lexer": "ipython3",
   "version": "3.8.20"
  }
 },
 "nbformat": 4,
 "nbformat_minor": 2
}
