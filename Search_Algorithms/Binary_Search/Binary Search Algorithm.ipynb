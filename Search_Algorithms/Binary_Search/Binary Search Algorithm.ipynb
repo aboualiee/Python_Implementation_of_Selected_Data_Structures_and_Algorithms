{
 "cells": [
  {
   "cell_type": "markdown",
   "metadata": {},
   "source": [
    "BINARY SEARCH: ITERATION"
   ]
  },
  {
   "cell_type": "code",
   "execution_count": 150,
   "metadata": {},
   "outputs": [],
   "source": [
    "\n",
    " def binary_search(array, target):\n",
    "    low = 0\n",
    "    high = len(array)-1\n",
    "    \n",
    "    while low <= high:\n",
    "        mid = (low + high)//2\n",
    "        \n",
    "        if array[mid] == target:\n",
    "           print(f\"Target {target} found at index {mid}.\")\n",
    "           return mid\n",
    "        \n",
    "        elif array[mid] > target:\n",
    "            high =  mid - 1\n",
    "            \n",
    "        else: \n",
    "            low = mid + 1   \n",
    "    return  print(f\"Target {mid} not found.\")\n",
    "            \n",
    "        \n",
    "    "
   ]
  },
  {
   "cell_type": "code",
   "execution_count": 151,
   "metadata": {},
   "outputs": [
    {
     "name": "stdout",
     "output_type": "stream",
     "text": [
      "Target 6 found at index 5.\n"
     ]
    }
   ],
   "source": [
    "arr = [1,2,3,4,5,6,7,8,9,10]\n",
    "target = 6\n",
    "result = binary_search(arr, target)"
   ]
  },
  {
   "cell_type": "markdown",
   "metadata": {},
   "source": [
    "BINARAY SEARCH: RECURSION"
   ]
  },
  {
   "cell_type": "code",
   "execution_count": 152,
   "metadata": {},
   "outputs": [],
   "source": [
    "def binary_search(array, target, low, high):\n",
    "    if low > high:\n",
    "        return  print(f\"Target {mid} not found.\")\n",
    "    \n",
    "    mid = low + high //2\n",
    "    \n",
    "    if array[mid] == target:\n",
    "        return mid\n",
    "    \n",
    "    if target < array[mid]:\n",
    "        return binary_search(array, target, low, mid - 1)\n",
    "    \n",
    "    else:\n",
    "        return binary_search(array, target, low, mid + 1, high)\n",
    "    \n",
    "        "
   ]
  }
 ],
 "metadata": {
  "kernelspec": {
   "display_name": "base",
   "language": "python",
   "name": "python3"
  },
  "language_info": {
   "codemirror_mode": {
    "name": "ipython",
    "version": 3
   },
   "file_extension": ".py",
   "mimetype": "text/x-python",
   "name": "python",
   "nbconvert_exporter": "python",
   "pygments_lexer": "ipython3",
   "version": "3.8.8"
  }
 },
 "nbformat": 4,
 "nbformat_minor": 2
}
