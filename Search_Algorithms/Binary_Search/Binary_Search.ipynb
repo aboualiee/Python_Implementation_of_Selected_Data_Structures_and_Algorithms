{
 "cells": [
  {
   "cell_type": "markdown",
   "metadata": {},
   "source": [
    "BINARY SEARCH: ITERATION"
   ]
  },
  {
   "cell_type": "code",
   "execution_count": 79,
   "metadata": {},
   "outputs": [],
   "source": [
    "\n",
    "def binary_search(array, target):\n",
    "    low = 0\n",
    "    high = len(array)-1\n",
    "    passes = 0\n",
    "    \n",
    "    while low <= high:\n",
    "        passes += 1\n",
    "        mid = (low + high)//2\n",
    "        \n",
    "        if array[mid] == target:\n",
    "            print(f\"Number of passes {passes}\")\n",
    "            return mid\n",
    "        \n",
    "        elif array[mid] > target:\n",
    "            high =  mid - 1\n",
    "            \n",
    "        else: \n",
    "            low = mid + 1 \n",
    "    print(f\"Number of passes {passes}\")  \n",
    "    return None"
   ]
  },
  {
   "cell_type": "code",
   "execution_count": 80,
   "metadata": {},
   "outputs": [
    {
     "name": "stdout",
     "output_type": "stream",
     "text": [
      "Number of passes 2\n",
      "Target 8 found at index 7.\n"
     ]
    }
   ],
   "source": [
    "# Test\n",
    "arr = [1,2,3,4,5,6,7,8,9,10]\n",
    "target = 8\n",
    "result = binary_search(arr, target)\n",
    "\n",
    "if result != None:\n",
    "    print(f\"Target {target} found at index {result}.\")\n",
    "else:\n",
    "    print(f\"Target {target} not found.\")"
   ]
  },
  {
   "cell_type": "markdown",
   "metadata": {},
   "source": [
    "BINARAY SEARCH: RECURSION"
   ]
  },
  {
   "cell_type": "code",
   "execution_count": 81,
   "metadata": {},
   "outputs": [],
   "source": [
    "def recursive_bs(array, target, low, high):\n",
    "    print (f\"recursive_bs called with low = {low} and high = {high}\")\n",
    "    if low > high:\n",
    "        return None\n",
    "    mid = (low + high) // 2\n",
    "    print(f\"mid = {mid} and array[mid] = {array[mid]}\")\n",
    "    if array[mid] == target:\n",
    "        return mid\n",
    "    elif array[mid] > target:\n",
    "        return recursive_bs(array, target, low, mid-1)\n",
    "    else:\n",
    "        return recursive_bs(array, target, mid+1, high)"
   ]
  },
  {
   "cell_type": "code",
   "execution_count": 82,
   "metadata": {},
   "outputs": [
    {
     "name": "stdout",
     "output_type": "stream",
     "text": [
      "recursive_bs called with low = 0 and high = 9\n",
      "mid = 4 and array[mid] = 5\n",
      "recursive_bs called with low = 5 and high = 9\n",
      "mid = 7 and array[mid] = 8\n",
      "Target 8 found at index 7\n"
     ]
    }
   ],
   "source": [
    "# Test\n",
    "array = [1,2,3,4,5,6,7,8,9,10]\n",
    "target = 8\n",
    "result = recursive_bs(array, target, 0, len(array)-1)\n",
    "\n",
    "if result != None:\n",
    "    print(f\"Target {target} found at index {result}\")\n",
    "else:\n",
    "    print(f\"Target {target} not found\")"
   ]
  }
 ],
 "metadata": {
  "kernelspec": {
   "display_name": "base",
   "language": "python",
   "name": "python3"
  },
  "language_info": {
   "codemirror_mode": {
    "name": "ipython",
    "version": 3
   },
   "file_extension": ".py",
   "mimetype": "text/x-python",
   "name": "python",
   "nbconvert_exporter": "python",
   "pygments_lexer": "ipython3",
   "version": "3.8.8"
  }
 },
 "nbformat": 4,
 "nbformat_minor": 2
}
