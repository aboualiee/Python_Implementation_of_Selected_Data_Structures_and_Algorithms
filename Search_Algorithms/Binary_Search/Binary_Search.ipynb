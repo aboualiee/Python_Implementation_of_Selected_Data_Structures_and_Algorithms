{
 "cells": [
  {
   "cell_type": "markdown",
   "metadata": {},
   "source": [
    "## Binary Search Algorithm\n",
    "\n",
    "Binary search is an efficient algorithm for finding a target value within a *sorted* list. It works by repeatedly dividing the search interval in half.\n",
    "\n",
    "**Algorithm (Iterative):**\n",
    "\n",
    "1.  **Initialization:**\n",
    "    *   Set `low` to the index of the first element (0).\n",
    "    *   Set `high` to the index of the last element (length of list - 1).\n",
    "2.  **Iteration:**\n",
    "    *   While `low` is less than or equal to `high`:\n",
    "        *   Calculate the middle index: `mid = (low + high) // 2`\n",
    "        *   If the element at `mid` is equal to the target value, return `mid`.\n",
    "        *   If the element at `mid` is less than the target value, set `low = mid + 1`.\n",
    "        *   If the element at `mid` is greater than the target value, set `high = mid - 1`.\n",
    "3.  **Completion:** If the target value is not found, return `None` (or `False`).\n",
    "\n",
    "**Algorithm (Recursive):**\n",
    "\n",
    "1.  **Base Cases:**\n",
    "    *   If `low` is greater than `high`, the target value is not in the list. Return `None` (or `False`).\n",
    "2.  **Recursive Step:**\n",
    "    *   Calculate the middle index: `mid = (low + high) // 2`\n",
    "    *   If the element at `mid` is equal to the target value, return `mid`.\n",
    "    *   If the element at `mid` is less than the target value, recursively call `binary_search` with `low = mid + 1` and `high` unchanged.\n",
    "    *   If the element at `mid` is greater than the target value, recursively call `binary_search` with `high = mid - 1` and `low` unchanged.\n",
    "\n",
    "**Pseudocode (Iterative):**\n"
   ]
  },
  {
   "cell_type": "markdown",
   "metadata": {},
   "source": [
    "## BINARY SEARCH: ITERATION"
   ]
  },
  {
   "cell_type": "code",
   "execution_count": 21,
   "metadata": {},
   "outputs": [],
   "source": [
    "\n",
    "def binary_search(array, target):\n",
    "    low = 0\n",
    "    high = len(array)-1\n",
    "    passes = 0\n",
    "    \n",
    "    while low <= high:\n",
    "        passes += 1\n",
    "        mid = (low + high)//2\n",
    "        \n",
    "        if array[mid] == target:\n",
    "            print(f\"Number of passes {passes}\")\n",
    "            return mid\n",
    "        \n",
    "        elif array[mid] > target:\n",
    "            high =  mid - 1\n",
    "            \n",
    "        else: \n",
    "            low = mid + 1 \n",
    "    print(f\"Number of passes {passes}\")  \n",
    "    return None"
   ]
  },
  {
   "cell_type": "markdown",
   "metadata": {},
   "source": [
    "# Test"
   ]
  },
  {
   "cell_type": "code",
   "execution_count": 22,
   "metadata": {},
   "outputs": [
    {
     "name": "stdout",
     "output_type": "stream",
     "text": [
      "Number of passes 2\n",
      "Target 8 found at index 7.\n"
     ]
    }
   ],
   "source": [
    "arr = [1,2,3,4,5,6,7,8,9,10]\n",
    "target = 8\n",
    "result = binary_search(arr, target)\n",
    "\n",
    "if result != None:\n",
    "    print(f\"Target {target} found at index {result}.\")\n",
    "else:\n",
    "    print(f\"Target {target} not found.\")"
   ]
  },
  {
   "cell_type": "markdown",
   "metadata": {},
   "source": [
    "# BINARAY SEARCH: RECURSION"
   ]
  },
  {
   "cell_type": "code",
   "execution_count": 23,
   "metadata": {},
   "outputs": [],
   "source": [
    "def recursive_bs(array, target, low, high):\n",
    "    print (f\"recursive_bs called with low = {low} and high = {high}\")\n",
    "    if low > high:\n",
    "        return None\n",
    "    mid = (low + high) // 2\n",
    "    print(f\"mid = {mid} and array[mid] = {array[mid]}\")\n",
    "    if array[mid] == target:\n",
    "        return mid\n",
    "    elif array[mid] > target:\n",
    "        return recursive_bs(array, target, low, mid-1)\n",
    "    else:\n",
    "        return recursive_bs(array, target, mid+1, high)"
   ]
  },
  {
   "cell_type": "markdown",
   "metadata": {},
   "source": [
    "# Test"
   ]
  },
  {
   "cell_type": "code",
   "execution_count": 24,
   "metadata": {},
   "outputs": [
    {
     "name": "stdout",
     "output_type": "stream",
     "text": [
      "recursive_bs called with low = 0 and high = 9\n",
      "mid = 4 and array[mid] = 5\n",
      "recursive_bs called with low = 5 and high = 9\n",
      "mid = 7 and array[mid] = 8\n",
      "Target 8 found at index 7\n"
     ]
    }
   ],
   "source": [
    "array = [1,2,3,4,5,6,7,8,9,10]\n",
    "target = 8\n",
    "result = recursive_bs(array, target, 0, len(array)-1)\n",
    "\n",
    "if result != None:\n",
    "    print(f\"Target {target} found at index {result}\")\n",
    "else:\n",
    "    print(f\"Target {target} not found\")"
   ]
  }
 ],
 "metadata": {
  "kernelspec": {
   "display_name": "base",
   "language": "python",
   "name": "python3"
  },
  "language_info": {
   "codemirror_mode": {
    "name": "ipython",
    "version": 3
   },
   "file_extension": ".py",
   "mimetype": "text/x-python",
   "name": "python",
   "nbconvert_exporter": "python",
   "pygments_lexer": "ipython3",
   "version": "3.8.20"
  }
 },
 "nbformat": 4,
 "nbformat_minor": 2
}
