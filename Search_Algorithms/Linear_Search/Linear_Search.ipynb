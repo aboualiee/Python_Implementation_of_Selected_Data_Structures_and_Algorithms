{
 "cells": [
  {
   "cell_type": "markdown",
   "metadata": {},
   "source": [
    "# Linear Search Algorithm\n",
    "\n",
    "The linear search algorithm is a simple method for finding a target value within a list. It sequentially checks each element of the list until a match is found or the entire list has been searched.\n",
    "\n",
    "**Algorithm:**\n",
    "\n",
    "1.  **Initialization:** Start at the first element of the list.\n",
    "2.  **Iteration:** For each element in the list:\n",
    "    *   Compare the element with the target value.\n",
    "    *   If the element matches the target value, return the index of the element (or `True` if you only need to know if the value exists).\n",
    "3.  **Completion:** If the target value is not found after checking all elements, return `None` (or `False`)."
   ]
  },
  {
   "cell_type": "markdown",
   "metadata": {},
   "source": [
    "# Linear Search"
   ]
  },
  {
   "cell_type": "code",
   "execution_count": 7,
   "metadata": {},
   "outputs": [],
   "source": [
    "def linear_search(array, target):\n",
    "    passes = 0\n",
    "\n",
    "    for i in range(len(array)):\n",
    "        passes += 1\n",
    "\n",
    "        if array[i] == target:\n",
    "            print(f\"Number of passes: {passes}\")\n",
    "            return i  \n",
    "            \n",
    "    print(f\"Number of passes: {passes}\")      \n",
    "    return None"
   ]
  },
  {
   "cell_type": "markdown",
   "metadata": {},
   "source": [
    "# Test"
   ]
  },
  {
   "cell_type": "code",
   "execution_count": 8,
   "metadata": {},
   "outputs": [
    {
     "name": "stdout",
     "output_type": "stream",
     "text": [
      "Number of passes: 2\n",
      "Target found at index 1\n"
     ]
    }
   ],
   "source": [
    "array = [1,2,3,4,5,6,7,8,9,10]\n",
    "target = 2\n",
    "result = linear_search(array, target)\n",
    "\n",
    "if result != None:\n",
    "    print(f\"Target found at index {result}\")\n"
   ]
  }
 ],
 "metadata": {
  "kernelspec": {
   "display_name": "base",
   "language": "python",
   "name": "python3"
  },
  "language_info": {
   "codemirror_mode": {
    "name": "ipython",
    "version": 3
   },
   "file_extension": ".py",
   "mimetype": "text/x-python",
   "name": "python",
   "nbconvert_exporter": "python",
   "pygments_lexer": "ipython3",
   "version": "3.8.20"
  }
 },
 "nbformat": 4,
 "nbformat_minor": 2
}
