{
 "cells": [
  {
   "cell_type": "markdown",
   "metadata": {},
   "source": [
    "Linear Search"
   ]
  },
  {
   "cell_type": "code",
   "execution_count": 4,
   "metadata": {},
   "outputs": [],
   "source": [
    "def linear_search(array, target):\n",
    "    passes = 0\n",
    "\n",
    "    for i in range(len(array)):\n",
    "        passes += 1\n",
    "\n",
    "        if array[i] == target:\n",
    "            print(f\"Number of passes: {passes}\")\n",
    "            return i  \n",
    "            \n",
    "    print(f\"Number of passes: {passes}\")      \n",
    "    return None\n"
   ]
  },
  {
   "cell_type": "code",
   "execution_count": 3,
   "metadata": {},
   "outputs": [
    {
     "name": "stdout",
     "output_type": "stream",
     "text": [
      "Number of passes: 2\n",
      "Target found at index 1\n"
     ]
    }
   ],
   "source": [
    "# Test\n",
    "array = [1,2,3,4,5,6,7,8,9,10]\n",
    "target = 2\n",
    "result = linear_search(array, target)\n",
    "\n",
    "if result != None:\n",
    "    print(f\"Target found at index {result}\")\n"
   ]
  }
 ],
 "metadata": {
  "kernelspec": {
   "display_name": "base",
   "language": "python",
   "name": "python3"
  },
  "language_info": {
   "codemirror_mode": {
    "name": "ipython",
    "version": 3
   },
   "file_extension": ".py",
   "mimetype": "text/x-python",
   "name": "python",
   "nbconvert_exporter": "python",
   "pygments_lexer": "ipython3",
   "version": "3.8.8"
  }
 },
 "nbformat": 4,
 "nbformat_minor": 2
}
