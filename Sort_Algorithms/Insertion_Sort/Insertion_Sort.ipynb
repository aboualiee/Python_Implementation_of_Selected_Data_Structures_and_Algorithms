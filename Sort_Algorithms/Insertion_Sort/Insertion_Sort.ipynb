{
 "cells": [
  {
   "cell_type": "markdown",
   "metadata": {},
   "source": [
    "INSERTION SORT:"
   ]
  },
  {
   "cell_type": "code",
   "execution_count": 1,
   "metadata": {},
   "outputs": [
    {
     "data": {
      "text/plain": [
       "'\\nfunction insertion_sort(array):\\n\\n    # Start from the second element (index 1)\\n    for i = 2 to length(array):\\n\\n        # Define the current element to be inserted and the element before it\\n        key = array[i]\\n        j = i - 1\\n\\n        # Loop through the array, find and shift (one position to the right of the array) the elements \\n        # that are greater than the current element (key) and move to the next previous element after that.\\n\\n        while j >= 0 and array[j] > key:\\n            array[j + 1] = array[j]\\n            j -= 1\\n\\n        # Insert the current element (key) where array[j] <= key\\n        array[j + 1] = key\\n'"
      ]
     },
     "execution_count": 1,
     "metadata": {},
     "output_type": "execute_result"
    }
   ],
   "source": [
    "'''\n",
    "function insertion_sort(array):\n",
    "\n",
    "    # Start from the second element (index 1)\n",
    "    for i = 2 to length(array):\n",
    "\n",
    "        # Define the current element to be inserted and the element before it\n",
    "        key = array[i]\n",
    "        j = i - 1\n",
    "\n",
    "        # Loop through the array, find and shift (one position to the right of the array) the elements \n",
    "        # that are greater than the current element (key) and move to the next previous element after that.\n",
    "\n",
    "        while j >= 0 and array[j] > key:\n",
    "            array[j + 1] = array[j]\n",
    "            j -= 1\n",
    "\n",
    "        # Insert the current element (key) where array[j] <= key\n",
    "        array[j + 1] = key\n",
    "'''"
   ]
  },
  {
   "cell_type": "code",
   "execution_count": 12,
   "metadata": {},
   "outputs": [],
   "source": [
    "def insertion_sort(array):\n",
    "    passes = 0\n",
    "    for i in range (1, len(array)):\n",
    "        comparisons += 1\n",
    "        key = array[i]\n",
    "        j = i - 1\n",
    "\n",
    "        while j >= 0 and array[j] > key:\n",
    "            array[j + 1] = array[j]\n",
    "            j -= 1\n",
    "        array[j + 1] = key\n",
    "    print(f\"Total Passes: {passes}\")\n",
    "    return array"
   ]
  },
  {
   "cell_type": "code",
   "execution_count": 11,
   "metadata": {},
   "outputs": [
    {
     "name": "stdout",
     "output_type": "stream",
     "text": [
      "Total Passes: 5\n",
      "[1, 2, 3, 4, 5, 6]\n"
     ]
    }
   ],
   "source": [
    "# Test\n",
    "array = [5,2,4,6,1,3]\n",
    "sorted_array = insertion_sort(array)\n",
    "print(sorted_array)\n"
   ]
  }
 ],
 "metadata": {
  "kernelspec": {
   "display_name": "base",
   "language": "python",
   "name": "python3"
  },
  "language_info": {
   "codemirror_mode": {
    "name": "ipython",
    "version": 3
   },
   "file_extension": ".py",
   "mimetype": "text/x-python",
   "name": "python",
   "nbconvert_exporter": "python",
   "pygments_lexer": "ipython3",
   "version": "3.8.8"
  }
 },
 "nbformat": 4,
 "nbformat_minor": 2
}
