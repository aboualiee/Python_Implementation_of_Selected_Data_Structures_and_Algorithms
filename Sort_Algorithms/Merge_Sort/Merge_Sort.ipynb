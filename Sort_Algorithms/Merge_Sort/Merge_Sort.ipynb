{
 "cells": [
  {
   "cell_type": "markdown",
   "metadata": {},
   "source": [
    "Merge Sort:"
   ]
  },
  {
   "cell_type": "code",
   "execution_count": 58,
   "metadata": {},
   "outputs": [
    {
     "data": {
      "text/plain": [
       "'\\nfunction merge_sort(array):\\n    if length(array) <= 1:\\n        return\\n\\n    # Find the middle point and divide the array into two halves:\\n    mid = length(array)//2\\n    left_array = array[:mid]\\n    right_array = array[mid:]\\n\\n    # Recursively solve both halves\\n    merge_sort(left_array)\\n    merge_sort(right_array)\\n\\n    # Merge the two sorted halves\\n    merge(array, left_array, right_array)\\n\\n# Create the merge function\\nfunction merge(array, left_array, right_array):\\n\\n    # Define the initial indexes of left_array, right_array, and the merged array\\n    i = j = k = 0\\n\\n    # Merge the left_array and the right_array into the main array\\n    while i < length(left_array) and j < length(right_array):\\n        if left_array[i] < right_array[j]:\\n            array[k] = left_array[i]\\n            i += 1\\n        else:\\n            array[k] = right_array[j]\\n            j += 1\\n    k += 1\\n\\n    # Merge any remaining elements of the left_array into the main array\\n    while i < length(left_array):\\n        array[k] = left_array[i]\\n        i += 1\\n        k += 1\\n\\n    # Merge any remaining elements of the right_array into the main array\\n    while j < length(right_array):\\n        array[k] = right_array[i]\\n        j += 1\\n        k += 1\\n'"
      ]
     },
     "execution_count": 58,
     "metadata": {},
     "output_type": "execute_result"
    }
   ],
   "source": [
    "'''\n",
    "function merge_sort(array):\n",
    "    if length(array) <= 1:\n",
    "        return\n",
    "\n",
    "    # Find the middle point and divide the array into two halves:\n",
    "    mid = length(array)//2\n",
    "    left_array = array[:mid]\n",
    "    right_array = array[mid:]\n",
    "\n",
    "    # Recursively solve both halves\n",
    "    merge_sort(left_array)\n",
    "    merge_sort(right_array)\n",
    "\n",
    "    # Merge the two sorted halves\n",
    "    merge(array, left_array, right_array)\n",
    "\n",
    "# Create the merge function\n",
    "function merge(array, left_array, right_array):\n",
    "\n",
    "    # Define the initial indexes of left_array, right_array, and the merged array\n",
    "    i = j = k = 0\n",
    "\n",
    "    # Merge the left_array and the right_array into the main array\n",
    "    while i < length(left_array) and j < length(right_array):\n",
    "        if left_array[i] < right_array[j]:\n",
    "            array[k] = left_array[i]\n",
    "            i += 1\n",
    "        else:\n",
    "            array[k] = right_array[j]\n",
    "            j += 1\n",
    "    k += 1\n",
    "\n",
    "    # Merge any remaining elements of the left_array into the main array\n",
    "    while i < length(left_array):\n",
    "        array[k] = left_array[i]\n",
    "        i += 1\n",
    "        k += 1\n",
    "\n",
    "    # Merge any remaining elements of the right_array into the main array\n",
    "    while j < length(right_array):\n",
    "        array[k] = right_array[i]\n",
    "        j += 1\n",
    "        k += 1\n",
    "'''"
   ]
  },
  {
   "cell_type": "code",
   "execution_count": 59,
   "metadata": {},
   "outputs": [],
   "source": [
    "def merge_sort(array):\n",
    "    if len(array) <= 1:\n",
    "        return \n",
    "\n",
    "    # Find the middle point and divide the array into two halves:\n",
    "    mid = len(array)//2\n",
    "    left_array = array[:mid]\n",
    "    right_array = array[mid:]\n",
    "\n",
    "    # Recursively sort the two halves:\n",
    "    merge_sort(left_array)\n",
    "    merge_sort(right_array)\n",
    "\n",
    "    # Merge the two sorted arrays into the main array:\n",
    "    merge(array, left_array, right_array)\n",
    "    return array\n",
    "\n",
    "# Create the merge function:\n",
    "def merge(array, left_array, right_array):\n",
    "\n",
    "    # Define the initial indexes of the three arrays:\n",
    "    i = j = k = 0\n",
    "\n",
    "    # Merge the two half arrays into the main array:\n",
    "    while i < len(left_array) and j < len(right_array):\n",
    "        if left_array[i] < right_array[j]:\n",
    "            array[k] = left_array[i]\n",
    "            i += 1\n",
    "        else:\n",
    "            array[k] = right_array[j]\n",
    "            j += 1\n",
    "        k += 1\n",
    "        \n",
    "    # Merge any remaining element in the left_array into the main array:\n",
    "    while i < len(left_array):\n",
    "        array[k] = left_array[i]\n",
    "        i += 1\n",
    "        k += 1\n",
    "        \n",
    "    # Merge any remaining element in the right_array into the main array:\n",
    "    while j < len(right_array):\n",
    "        array[k] = right_array[j]\n",
    "        j += 1\n",
    "        k += 1\n"
   ]
  },
  {
   "cell_type": "markdown",
   "metadata": {},
   "source": [
    "OPTIONAL FUNCTION TO TRACKING THE DEPTH OF RECURSION (levels of splits and merges)"
   ]
  },
  {
   "cell_type": "code",
   "execution_count": 60,
   "metadata": {},
   "outputs": [],
   "source": [
    "import math\n",
    "def recursion_depth(array, level = 0):\n",
    "    if len(array) <= 1:\n",
    "        return level\n",
    "\n",
    "    mid = len(array)//2\n",
    "    left_array = array[:mid]\n",
    "    right_array = array[mid:]\n",
    "\n",
    "    # Recursively calculate the depth of the left and right array\n",
    "    left_depth = recursion_depth(left_array, level +1)\n",
    "    right_depth = recursion_depth(right_array, level + 1)\n",
    "\n",
    "    return max(left_depth, right_depth)"
   ]
  },
  {
   "cell_type": "code",
   "execution_count": 61,
   "metadata": {},
   "outputs": [
    {
     "name": "stdout",
     "output_type": "stream",
     "text": [
      "Length of the given array: 22\n",
      "sorted_array: [1, 2, 3, 4, 5, 6, 7, 8, 9, 10, 12, 16, 33, 44, 55, 66, 77, 85, 87, 88, 88, 99]\n",
      "Expected Number of Recursion Depth (log2(len(array)): 5\n",
      "Actual Number of Recursion Depth Counted: 5\n"
     ]
    }
   ],
   "source": [
    "# Test\n",
    "array = [1,3,2,5,4,10,6,9,7,8,12,16,87,99,77,66,55,44,33,88,88,85]\n",
    "level = recursion_depth(array)\n",
    "expected_levels = math.ceil(math.log2(len(array)))\n",
    "sorted_array = merge_sort(array)\n",
    "array_length = len(array)\n",
    "\n",
    "print(f\"Length of the given array: {array_length}\")\n",
    "print(f\"sorted_array: {sorted_array}\")\n",
    "print(f\"Expected Number of Recursion Depth (log2(len(array)): {expected_levels}\")\n",
    "print(f\"Actual Number of Recursion Depth Counted: {level}\")\n",
    "\n"
   ]
  }
 ],
 "metadata": {
  "kernelspec": {
   "display_name": "base",
   "language": "python",
   "name": "python3"
  },
  "language_info": {
   "codemirror_mode": {
    "name": "ipython",
    "version": 3
   },
   "file_extension": ".py",
   "mimetype": "text/x-python",
   "name": "python",
   "nbconvert_exporter": "python",
   "pygments_lexer": "ipython3",
   "version": "3.8.8"
  }
 },
 "nbformat": 4,
 "nbformat_minor": 2
}
