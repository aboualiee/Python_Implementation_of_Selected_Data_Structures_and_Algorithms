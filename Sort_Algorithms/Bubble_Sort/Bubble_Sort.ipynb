{
 "cells": [
  {
   "cell_type": "markdown",
   "metadata": {},
   "source": [
    "# Bubble Sort Algorithm:"
   ]
  },
  {
   "cell_type": "code",
   "execution_count": 4,
   "metadata": {},
   "outputs": [
    {
     "data": {
      "text/plain": [
       "'\\ndef bubble_sort(array):\\n        n = len(array)\\n\\n    for i = 0, i < n-1, i++:\\n        for j = 0, j < n-1, j++:\\n            if array[j] > array[j+1]:\\n                temp = array[j]\\n                array[j] = array[j+1]\\n                array[j+1] = temp\\n            endif\\n        endfor\\n    endfor\\nend bubble_sort \\n\\n'"
      ]
     },
     "execution_count": 4,
     "metadata": {},
     "output_type": "execute_result"
    }
   ],
   "source": [
    "'''\n",
    "def bubble_sort(array):\n",
    "        n = len(array)\n",
    "\n",
    "    for i = 0, i < n-1, i++:\n",
    "        for j = 0, j < n-1, j++:\n",
    "            if array[j] > array[j+1]:\n",
    "                temp = array[j]\n",
    "                array[j] = array[j+1]\n",
    "                array[j+1] = temp\n",
    "            endif\n",
    "        endfor\n",
    "    endfor\n",
    "end bubble_sort \n",
    "\n",
    "'''"
   ]
  },
  {
   "cell_type": "markdown",
   "metadata": {},
   "source": [
    "# Bubble Sort Implementation:"
   ]
  },
  {
   "cell_type": "code",
   "execution_count": 5,
   "metadata": {},
   "outputs": [],
   "source": [
    "def bubble_sort(array):\n",
    "    n = len(array)\n",
    "    passes = 0\n",
    "    iterations = 0\n",
    "\n",
    "    # Passes loop\n",
    "    for i in range(n-1):\n",
    "        passes += 1\n",
    "        \n",
    "        # Iterations loop\n",
    "        for j in range(0, n-1):\n",
    "            iterations += 1\n",
    "            if array[j] > array[j+1]:\n",
    "                temp = array[j]\n",
    "                array[j] = array[j+1]\n",
    "                array[j+1] = temp\n",
    "\n",
    "    print(f\"Total Passes: {passes}\")\n",
    "    print(f\"Total Iterations: {iterations}\")\n",
    "    return array"
   ]
  },
  {
   "cell_type": "markdown",
   "metadata": {},
   "source": [
    "# Test"
   ]
  },
  {
   "cell_type": "code",
   "execution_count": 6,
   "metadata": {},
   "outputs": [
    {
     "name": "stdout",
     "output_type": "stream",
     "text": [
      "Total Passes: 7\n",
      "Total Iterations: 49\n",
      "Sorted array: [6, 8, 15, 16, 30, 40, 50, 60]\n"
     ]
    }
   ],
   "source": [
    "# Test\n",
    "array = [15,16,6,8,30,40,50,60]\n",
    "sorted_array = bubble_sort(array)\n",
    "print(f\"Sorted array: {sorted_array}\")\n",
    "\n"
   ]
  }
 ],
 "metadata": {
  "kernelspec": {
   "display_name": "base",
   "language": "python",
   "name": "python3"
  },
  "language_info": {
   "codemirror_mode": {
    "name": "ipython",
    "version": 3
   },
   "file_extension": ".py",
   "mimetype": "text/x-python",
   "name": "python",
   "nbconvert_exporter": "python",
   "pygments_lexer": "ipython3",
   "version": "3.8.20"
  }
 },
 "nbformat": 4,
 "nbformat_minor": 2
}
