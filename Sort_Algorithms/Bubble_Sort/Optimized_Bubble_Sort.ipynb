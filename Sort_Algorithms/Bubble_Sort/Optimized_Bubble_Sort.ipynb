{
 "cells": [
  {
   "cell_type": "markdown",
   "metadata": {},
   "source": [
    "# Optimized Bubble Sort Algorithm:"
   ]
  },
  {
   "cell_type": "code",
   "execution_count": 1,
   "metadata": {},
   "outputs": [
    {
     "data": {
      "text/plain": [
       "'\\ndef bubble_sort(array):\\n    n = len(array)\\n\\n    for i = 0, i < n-1, i++:\\n        swapped = False\\n        for j = 0, j < n-1-i, j++:\\n            if array[j] > array[j+1]:\\n                temp = array[j]\\n                array[j] = array[j+1]\\n                array[j+1] = temp\\n                Swapped = True\\n            if swapped == False:\\n                break\\n            endif\\n        endfor\\n    endfor\\nendbubble_sort           \\n                \\n'"
      ]
     },
     "execution_count": 1,
     "metadata": {},
     "output_type": "execute_result"
    }
   ],
   "source": [
    "'''\n",
    "def bubble_sort(array):\n",
    "    n = len(array)\n",
    "\n",
    "    for i = 0, i < n-1, i++:\n",
    "        swapped = False\n",
    "        for j = 0, j < n-1-i, j++:\n",
    "            if array[j] > array[j+1]:\n",
    "                temp = array[j]\n",
    "                array[j] = array[j+1]\n",
    "                array[j+1] = temp\n",
    "                Swapped = True\n",
    "            if swapped == False:\n",
    "                break\n",
    "            endif\n",
    "        endfor\n",
    "    endfor\n",
    "endbubble_sort           \n",
    "                \n",
    "'''"
   ]
  },
  {
   "cell_type": "markdown",
   "metadata": {},
   "source": [
    "# Optimized Bubble Sort Implementation:"
   ]
  },
  {
   "cell_type": "code",
   "execution_count": 2,
   "metadata": {},
   "outputs": [],
   "source": [
    "def optimized_bbs(array):\n",
    "    n = len(array)\n",
    "    passes = 0\n",
    "    iterations = 0\n",
    "\n",
    "    for i in range(n-1):\n",
    "        passes += 1\n",
    "        swapped = False\n",
    "\n",
    "        for j in range(n-1-i):\n",
    "            iterations += 1\n",
    "            if array[j] > array[j+1]:\n",
    "                array[j], array[j+1] = array[j+1], array[j]\n",
    "                swapped = True\n",
    "    \n",
    "        if not swapped:\n",
    "            break\n",
    "\n",
    "    print(f\"Total Passes: {passes}\")\n",
    "    print(f\"Total Iterations: {iterations}\")\n",
    "    return array\n"
   ]
  },
  {
   "cell_type": "markdown",
   "metadata": {},
   "source": [
    "# Test"
   ]
  },
  {
   "cell_type": "code",
   "execution_count": 3,
   "metadata": {},
   "outputs": [
    {
     "name": "stdout",
     "output_type": "stream",
     "text": [
      "Total Passes: 3\n",
      "Total Iterations: 18\n",
      "Sorted array: [6, 8, 15, 16, 30, 40, 50, 60]\n"
     ]
    }
   ],
   "source": [
    "array = [15,16,6,8,30,40,50,60]\n",
    "sorted_array = optimized_bbs(array)\n",
    "print(f\"Sorted array: {sorted_array}\")"
   ]
  }
 ],
 "metadata": {
  "kernelspec": {
   "display_name": "base",
   "language": "python",
   "name": "python3"
  },
  "language_info": {
   "codemirror_mode": {
    "name": "ipython",
    "version": 3
   },
   "file_extension": ".py",
   "mimetype": "text/x-python",
   "name": "python",
   "nbconvert_exporter": "python",
   "pygments_lexer": "ipython3",
   "version": "3.8.20"
  }
 },
 "nbformat": 4,
 "nbformat_minor": 2
}
