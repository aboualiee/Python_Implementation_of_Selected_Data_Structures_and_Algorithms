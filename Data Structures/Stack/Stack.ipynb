{
 "cells": [
  {
   "cell_type": "markdown",
   "metadata": {},
   "source": [
    "Stack Algorithm:"
   ]
  },
  {
   "cell_type": "code",
   "execution_count": 1,
   "metadata": {},
   "outputs": [
    {
     "data": {
      "text/plain": [
       "'\\nclass Stack:\\n    def__init__(self):\\n\\n\\n\\n'"
      ]
     },
     "execution_count": 1,
     "metadata": {},
     "output_type": "execute_result"
    }
   ],
   "source": [
    "'''\n",
    "Stack is a data structure that follows the Last In First Out (LIFO) principle. operations on stack are:\n",
    "1. push: add an element to the top of the stack\n",
    "2. pop: remove the top element from the stack\n",
    "3. peek: get the top element of the stack without removing it\n",
    "4. is_empty: check if the stack is empty\n",
    "5. size: get the number of elements in the stack\n",
    "\n",
    "Stack can be implemented using list in python. the top of the stack is the end of the list. \n",
    "In this implementation, the end of the list is considered as the top of the stack. also, \n",
    "the stack is implemented using a class with the following methods:\n",
    "1. push: add an element to the top of the stack\n",
    "2. pop: remove the top element from the stack\n",
    "3. peek: get the top element of the stack without removing it\n",
    "4. is_empty: check if the stack is empty\n",
    "5. size: get the number of elements in the stack\n",
    "6. display: display the elements of the stack: display method is added for debugging purposes. it is not a standard stack operation.\n",
    "\n",
    "The pseudo code:\n",
    "1. push(element):\n",
    "    add element to the end of the list\n",
    "2. pop():\n",
    "    remove the last element from the list\n",
    "3. peek():\n",
    "    return the last element of the list\n",
    "4. is_empty():\n",
    "    return True if the list is empty, False otherwise \n",
    "5. size():\n",
    "    return the length of the list\n",
    "6. display():\n",
    "    print the elements of the list\n",
    "\n",
    "\n",
    "'''"
   ]
  },
  {
   "cell_type": "code",
   "execution_count": null,
   "metadata": {},
   "outputs": [],
   "source": [
    "'''\n",
    "Practice French with Movies: Grab a French movie and watch it with English subtitles to practice and improve your French comprehension.\n",
    "\n",
    "\n",
    "'''"
   ]
  }
 ],
 "metadata": {
  "kernelspec": {
   "display_name": "base",
   "language": "python",
   "name": "python3"
  },
  "language_info": {
   "codemirror_mode": {
    "name": "ipython",
    "version": 3
   },
   "file_extension": ".py",
   "mimetype": "text/x-python",
   "name": "python",
   "nbconvert_exporter": "python",
   "pygments_lexer": "ipython3",
   "version": "3.8.8"
  }
 },
 "nbformat": 4,
 "nbformat_minor": 2
}
