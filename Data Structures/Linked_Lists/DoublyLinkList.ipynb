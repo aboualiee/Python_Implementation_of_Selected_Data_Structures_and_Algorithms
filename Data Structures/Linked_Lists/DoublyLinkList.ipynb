{
 "cells": [
  {
   "cell_type": "markdown",
   "metadata": {},
   "source": [
    "CREATING DOUBLY LINKED LIST"
   ]
  },
  {
   "cell_type": "code",
   "execution_count": 10,
   "metadata": {},
   "outputs": [],
   "source": [
    "from datetime import datetime, timedelta\n",
    "\n",
    "\n",
    "# Node class\n",
    "class Node:\n",
    "    def __init__(self, data, priority, timestamp): \n",
    "        self.data = data\n",
    "        self.prev = None\n",
    "        self.next = None\n",
    "        self.priority = priority\n",
    "        self.timestamp = timestamp\n",
    "\n",
    "# Doubly linked list class\n",
    "class Dlinkedlist:\n",
    "    def __init__(self):\n",
    "        self.head = None\n",
    "        \n",
    "    # Method to initialize the list with predefined values\n",
    "    def dataset(self):\n",
    "        base_time = datetime.now()\n",
    "        \n",
    "        # Populate the list with 5 element\n",
    "        values = [\n",
    "            (\"Call\", 5, base_time + timedelta(minutes=0)), \n",
    "            (\"Connectivity\", 10, base_time + timedelta(minutes=1)), \n",
    "            (\"Subscription\", 2, base_time + timedelta(minutes=3)),\n",
    "            (\"Registration\", 3, base_time + timedelta(minutes=4)), \n",
    "            (\"Others\", 5, base_time + timedelta(minutes=5))\n",
    "    ]\n",
    "        # Initialize the head and previous node\n",
    "        self.head = None\n",
    "        previous_node = None\n",
    "\n",
    "        # Iterate over the provided values\n",
    "        for data, priority, timestamp in values:\n",
    "            # Create a new node for each value\n",
    "            new_node = Node(data, priority, timestamp)\n",
    "\n",
    "            # If this is the first node, set it as the head\n",
    "            if self.head is None:\n",
    "                self.head = new_node\n",
    "            else:\n",
    "                # Link the new node with the previous node\n",
    "                previous_node.next = new_node\n",
    "                new_node.prev = previous_node\n",
    "\n",
    "            # Update the previous node to the current new node\n",
    "            previous_node = new_node\n",
    "\n",
    "        \n",
    "    # methode to print the Doubly Linked List\n",
    "    def printlist(self):\n",
    "        temp = self.head\n",
    "        while temp:\n",
    "            print(f\"{temp.data}, Priority: {temp.priority}, Timestamp: {temp.timestamp}\", end=\"\\n\")\n",
    "            temp = temp.next\n",
    "\n",
    "        \n",
    "    # Method to append element to the end of the doubly linked list\n",
    "    def add_to_end(self, new_data, priority, timestamp):\n",
    "        \n",
    "       \n",
    "        new_node = Node(new_data, priority, timestamp) \n",
    "        new_node.next = None\n",
    "       \n",
    "        if self.head is None:\n",
    "            new_node.prev = None \n",
    "            self.head = new_node \n",
    "            return\n",
    "        # Traverse to the last node\n",
    "        else:   \n",
    "            last = self.head \n",
    "            while last.next is not None: \n",
    "                last = last.next \n",
    "            last.next = new_node\n",
    "            new_node.prev = last\n",
    "            return\n",
    "        \n",
    "\n",
    "            \n",
    "    # Method to delete a node by index\n",
    "    def delete_by_index(self, index):\n",
    "        if self.head is None:\n",
    "            print(\"List is empty. Cannot delete.\")\n",
    "            return\n",
    "        \n",
    "        current = self.head\n",
    "        \n",
    "        # If the head needs to be removed change head\n",
    "        if index == 0:\n",
    "            self.head = current.next  \n",
    "            if self.head is not None:  \n",
    "                self.head.prev = None  \n",
    "            current = None  \n",
    "            return\n",
    "        \n",
    "        # Traverse to the node at the given index\n",
    "        for i in range(index):\n",
    "            current = current.next\n",
    "            if current is None:  \n",
    "                print(\"Index out of bounds.\")\n",
    "                return\n",
    "        \n",
    "        # Node is found, now unlink it from the list\n",
    "        if current.next is not None:  \n",
    "            current.next.prev = current.prev  \n",
    "        if current.prev is not None:  \n",
    "            current.prev.next = current.next  \n",
    "        current = None  \n",
    "        \n",
    "        \n",
    "        \n",
    "        \n",
    "    # Method to update a node's data by index\n",
    "    def update_by_index(self, index, new_data, priority, timestamp):\n",
    "        if self.head is None:  # If the list is empty\n",
    "            print(\"List is empty. Cannot update.\")\n",
    "            return\n",
    "        current = self.head\n",
    "        \n",
    "        # Traverse to the node at the given index\n",
    "        for i in range(index):\n",
    "            current = current.next\n",
    "            if current is None:  \n",
    "                print(\"Index out of bounds.\")\n",
    "                return\n",
    "        \n",
    "        # Update the data of the found node\n",
    "        current.data = new_data\n",
    "        current.priority = priority\n",
    "        current.timestamp = timestamp\n",
    "        \n",
    "    \n",
    "    # Method to sort the nodes by an attribute: either priority or timestamp\n",
    "    def sort(self, attribute):\n",
    "        if self.head is None or self.head.next is None:\n",
    "            return  \n",
    "\n",
    "        swapped = True\n",
    "        while swapped:\n",
    "            swapped = False\n",
    "            current = self.head\n",
    "            \n",
    "            # Compare the nodes based on the given attribute\n",
    "            while current.next is not None:\n",
    "                if getattr(current, attribute) > getattr(current.next, attribute):\n",
    "                    # Swap the data of the nodes\n",
    "                    current.data, current.next.data = current.next.data, current.data\n",
    "                    current.priority, current.next.priority = current.next.priority, current.priority\n",
    "                    current.timestamp, current.next.timestamp = current.next.timestamp, current.timestamp\n",
    "                    swapped = True\n",
    "                current = current.next\n",
    "\n",
    "\n",
    "    # Filter by attribute\n",
    "    def filter_by_attribute(self, attribute, value):\n",
    "        current = self.head\n",
    "        while current:\n",
    "            if getattr(current, attribute) == value:\n",
    "                print(f\"{current.data}, Priority: {current.priority}, Timestamp: {current.timestamp}\")\n",
    "            current = current.next  "
   ]
  },
  {
   "cell_type": "markdown",
   "metadata": {},
   "source": [
    "# Testing the code\n"
   ]
  },
  {
   "cell_type": "code",
   "execution_count": 11,
   "metadata": {},
   "outputs": [
    {
     "name": "stdout",
     "output_type": "stream",
     "text": [
      "Call, Priority: 5, Timestamp: 2024-12-19 00:07:36.587892\n",
      "Connectivity, Priority: 10, Timestamp: 2024-12-19 00:08:36.587892\n",
      "Subscription, Priority: 2, Timestamp: 2024-12-19 00:10:36.587892\n",
      "Registration, Priority: 3, Timestamp: 2024-12-19 00:11:36.587892\n",
      "Others, Priority: 5, Timestamp: 2024-12-19 00:12:36.587892\n"
     ]
    }
   ],
   "source": [
    "# An instance of the doubly linked list class\n",
    "dbllist = Dlinkedlist()\n",
    "   \n",
    "# Five elements pre-filled in the linked list\n",
    "dbllist.dataset()\n",
    "dbllist.printlist()\n"
   ]
  },
  {
   "cell_type": "code",
   "execution_count": 19,
   "metadata": {},
   "outputs": [
    {
     "name": "stdout",
     "output_type": "stream",
     "text": [
      "Updated Call, Priority: 5, Timestamp: 2024-12-19 00:07:36.671843\n",
      "Connectivity, Priority: 10, Timestamp: 2024-12-19 00:08:36.587892\n",
      "Subscription, Priority: 2, Timestamp: 2024-12-19 00:10:36.587892\n",
      "Registration, Priority: 3, Timestamp: 2024-12-19 00:11:36.587892\n",
      "Others, Priority: 5, Timestamp: 2024-12-19 00:12:36.587892\n",
      "New, Priority: 6, Timestamp: 2024-12-19 00:09:41.453247\n",
      "New, Priority: 6, Timestamp: 2024-12-19 00:09:41.453247\n",
      "New, Priority: 6, Timestamp: 2024-12-19 00:09:41.453247\n",
      "New, Priority: 6, Timestamp: 2024-12-19 00:09:52.826503\n",
      "New, Priority: 6, Timestamp: 2024-12-19 00:09:52.826503\n",
      "New, Priority: 6, Timestamp: 2024-12-19 00:09:52.826503\n",
      "New, Priority: 6, Timestamp: 2024-12-19 00:09:52.826503\n"
     ]
    }
   ],
   "source": [
    "# Add an element\n",
    "dbllist.add_to_end(\"New\", 6, datetime.now())\n",
    "dbllist.add_to_end(\"New\", 6, datetime.now())\n",
    "dbllist.add_to_end(\"New\", 6, datetime.now())\n",
    "dbllist.add_to_end(\"New\", 6, datetime.now())\n",
    "dbllist.printlist()\n"
   ]
  },
  {
   "cell_type": "code",
   "execution_count": 13,
   "metadata": {},
   "outputs": [
    {
     "name": "stdout",
     "output_type": "stream",
     "text": [
      "Connectivity, Priority: 10, Timestamp: 2024-12-19 00:08:36.587892\n",
      "Subscription, Priority: 2, Timestamp: 2024-12-19 00:10:36.587892\n",
      "Registration, Priority: 3, Timestamp: 2024-12-19 00:11:36.587892\n",
      "Others, Priority: 5, Timestamp: 2024-12-19 00:12:36.587892\n",
      "New, Priority: 6, Timestamp: 2024-12-19 00:07:36.605477\n"
     ]
    }
   ],
   "source": [
    "# Delete an element by index\n",
    "dbllist.delete_by_index(0)\n",
    "dbllist.printlist()\n"
   ]
  },
  {
   "cell_type": "code",
   "execution_count": 14,
   "metadata": {},
   "outputs": [
    {
     "name": "stdout",
     "output_type": "stream",
     "text": [
      "New, Priority: 6, Timestamp: 2024-12-19 00:07:36.605477\n",
      "Connectivity, Priority: 10, Timestamp: 2024-12-19 00:08:36.587892\n",
      "Subscription, Priority: 2, Timestamp: 2024-12-19 00:10:36.587892\n",
      "Registration, Priority: 3, Timestamp: 2024-12-19 00:11:36.587892\n",
      "Others, Priority: 5, Timestamp: 2024-12-19 00:12:36.587892\n"
     ]
    }
   ],
   "source": [
    "# Sort the list based on two attribute priority and timestamp\n",
    "dbllist.sort(\"timestamp\")\n",
    "dbllist.printlist()"
   ]
  },
  {
   "cell_type": "code",
   "execution_count": 15,
   "metadata": {},
   "outputs": [
    {
     "name": "stdout",
     "output_type": "stream",
     "text": [
      "Updated Call, Priority: 5, Timestamp: 2024-12-19 00:07:36.671843\n",
      "Connectivity, Priority: 10, Timestamp: 2024-12-19 00:08:36.587892\n",
      "Subscription, Priority: 2, Timestamp: 2024-12-19 00:10:36.587892\n",
      "Registration, Priority: 3, Timestamp: 2024-12-19 00:11:36.587892\n",
      "Others, Priority: 5, Timestamp: 2024-12-19 00:12:36.587892\n"
     ]
    }
   ],
   "source": [
    "# Update and element by index\n",
    "dbllist.update_by_index(0, \"Updated Call\", 5, datetime.now())\n",
    "dbllist.printlist()"
   ]
  },
  {
   "cell_type": "code",
   "execution_count": 16,
   "metadata": {},
   "outputs": [
    {
     "name": "stdout",
     "output_type": "stream",
     "text": [
      "Updated Call, Priority: 5, Timestamp: 2024-12-19 00:07:36.671843\n",
      "Others, Priority: 5, Timestamp: 2024-12-19 00:12:36.587892\n"
     ]
    }
   ],
   "source": [
    "\n",
    "# Filter the list by  nodes with priority\n",
    "dbllist.filter_by_attribute(\"priority\",5)"
   ]
  }
 ],
 "metadata": {
  "kernelspec": {
   "display_name": "base",
   "language": "python",
   "name": "python3"
  },
  "language_info": {
   "codemirror_mode": {
    "name": "ipython",
    "version": 3
   },
   "file_extension": ".py",
   "mimetype": "text/x-python",
   "name": "python",
   "nbconvert_exporter": "python",
   "pygments_lexer": "ipython3",
   "version": "3.8.8"
  }
 },
 "nbformat": 4,
 "nbformat_minor": 2
}
